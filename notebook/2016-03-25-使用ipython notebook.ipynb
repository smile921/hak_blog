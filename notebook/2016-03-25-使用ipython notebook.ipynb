{
 "metadata": {
  "celltoolbar": "Slideshow",
  "name": "",
  "signature": "sha256:46f31964147d37c7d13fc26f9fb92c28bc28fbffb2b09838d0954c84da472565"
 },
 "nbformat": 3,
 "nbformat_minor": 0,
 "worksheets": [
  {
   "cells": [
    {
     "cell_type": "markdown",
     "metadata": {
      "slideshow": {
       "slide_type": "slide"
      }
     },
     "source": [
      "---\n",
      "title:  \u4f7f\u7528ipython notebook \u53ca\u5176\u4e00\u4e9b\u6742\u8bb0!\n",
      "date:   2016-03-25 11:52:38\n",
      "categories: \u7b14\u8bb0,Awesome \n",
      "---\n",
      "\n",
      "# \u4f7f\u7528ipython notebook \u53ca\u5176\u4e00\u4e9b\u6742\u8bb0!"
     ]
    },
    {
     "cell_type": "markdown",
     "metadata": {
      "slideshow": {
       "slide_type": "notes"
      }
     },
     "source": []
    },
    {
     "cell_type": "markdown",
     "metadata": {
      "slideshow": {
       "slide_type": "slide"
      }
     },
     "source": [
      "\n",
      "### \u521d\u5b66\u8005CSS \u5c0f\u6280\u5de7\n",
      "\u8bbe\u7f6e\u5706\u89d2block\u4ee3\u7801\u5757\u513f\n",
      "\n",
      "~~~~css\n",
      "pre {   \n",
      "    font-family: Consolas, Monaco, 'Andale Mono', monospace;\n",
      "    -moz-border-radius: 1em;\n",
      "    -webkit-border-radius: 1em;\n",
      "    border-radius: 1em;\n",
      "\t}\n",
      "~~~~\n",
      "\n",
      "\u8bbe\u7f6e\u94fe\u63a5\u7684\u9f20\u6807\u4e3a\u5341\u5b57\u661f\u578b\n",
      "\n",
      "~~~~css\n",
      "a {\n",
      "     cursor: crosshair;   \n",
      "}\n",
      "~~~~"
     ]
    },
    {
     "cell_type": "markdown",
     "metadata": {
      "slideshow": {
       "slide_type": "slide"
      }
     },
     "source": [
      "### \u521d\u5b66\u4f7f\u7528docker\u8bb0\u5f55\n",
      "\n",
      "* \u542f\u52a8\n",
      "~~~~bash\n",
      "sudo docker run -it --name openresty -p 8001:8001 -v ~/Projects/Nginx_Lua:/tmp 10.88.1.229:5000/centos-openresty /bin/bash\n",
      "~~~~\n",
      "\n",
      "* \u9000\u51fa ctrl p ctrl q\n",
      "\n",
      "* \u518d\u6b21\u8fde\u63a5\u4e0a\n",
      "sudo docker attach openresty\n",
      "* \u5f7b\u5e95\u505c\u6b62\n",
      "sudo docker stop <9951920216ee>\n",
      "* \u518d\u6b21\u8fd0\u884c\n",
      "sudo docker start <9951920216ee>\n",
      "* \u5220\u9664\n",
      "sudo docker rm <9951920216ee>\n",
      "* \u5220\u9664image\n",
      "sudo docker rmi <image id>\n",
      "\n",
      "<br> <br>\n",
      "* #### \u5b9e\u4f8b\n",
      "* sudo docker run -it --name openresty -p 8001:8001 -v /home/zjex/zjex-projects/zjex-nginx/:/tmp 10.88.1.229:5000/centos-openresty /bin/bash"
     ]
    },
    {
     "cell_type": "markdown",
     "metadata": {
      "slideshow": {
       "slide_type": "slide"
      }
     },
     "source": [
      "## Docker Registry\n",
      "1. .\u4f7f\u7528registry\u542f\u52a8\u79c1\u6709\u4ed3\u5e93\u7684\u5bb9\u5668\n",
      "~~~~bash\n",
      "docker run -d -e SETTINGS_FLAVOR=dev -e STORAGE_PATH=/tmp/registry -v /opt/data/registry:/tmp/registry  -p 5000:5000 registry\n",
      "~~~~\n",
      "\u8bf4\u660e\uff1a\u82e5\u4e4b\u524d\u6ca1\u6709\u5b89\u88c5registry\u5bb9\u5668\u5219\u4f1a\u81ea\u52a8\u4e0b\u8f7d\u5e76\u542f\u52a8\u4e00\u4e2aregistry\u5bb9\u5668\uff0c\u521b\u5efa\u672c\u5730\u7684\u79c1\u6709\u4ed3\u5e93\u670d\u52a1\u3002\u9ed8\u8ba4\u60c5\u51b5\u4e0b\uff0c\u4f1a\u5c06\u4ed3\u5e93\u521b\u5efa\u5728\u5bb9\u5668\u7684/tmp/registry\u76ee\u5f55\u4e0b\uff0c\u53ef\u4ee5\u901a\u8fc7 -v \u53c2\u6570\u6765\u5c06\u955c\u50cf\u6587\u4ef6\u5b58\u653e\u5728\u672c\u5730\u7684\u6307\u5b9a\u8def\u5f84\u4e0a\uff08\u4f8b\u5982\uff0c\u653e\u5728\u672c\u5730\u76ee\u5f55/opt/data/registry\u4e0b\uff09\u3002<br>\n",
      "1. ### \u63a8\u9001\u672c\u5730\u955c\u50cf\u5230\u79c1\u6709\u4ed3\u5e93\n",
      "##### \u7ed9container\u53d6\u53e6\u5916\u4e00\u4e2a\u540d\u5b57\n",
      "~~~~bash\n",
      "docker tag 68edf809afe7 10.88.1.229:5000/centos-jdk\n",
      "~~~~\n",
      "##### \u6700\u540e\u5c06\u65b0\u7684docker images\u63a8\u9001\u5230\u79c1\u670d\u4e0a\n",
      "~~~~bash\n",
      "docker push 10.88.1.229:5000/centos-jdk\n",
      "~~~~\n",
      "1. ### \u79c1\u6709\u4ed3\u5e93\u67e5\u8be2\u65b9\u6cd5\n",
      "~~~~bash\n",
      "curl -X GET http://10.88.1.229:5000/v1/search\n",
      "~~~~\n",
      "\u8bf4\u660e\uff1a\u4f7f\u7528curl\u67e5\u770b\u4ed3\u5e9310.88.1.229:5000\u4e2d\u7684\u955c\u50cf\u3002\u8fd4\u56de\u7c7b\u4f3c\u5982\u4e0b\u7ed3\u679c\n",
      "{\"num_results\": 1, \"query\": \"\", \"results\": [{\"description\": \"\", \"name\": \"library/centos-jdk\"}]}\n",
      "1. ### \u5728\u5176\u4ed6\u7684\u673a\u5668\u4e0a\u8bbf\u95ee\u548c\u4e0b\u8f7d\u79c1\u6709\u4ed3\u5e93\u7684\u955c\u50cf\n",
      "~~~~bash\n",
      "docker pull 10.88.1.229:5000/centos-jdk\n",
      "~~~~\n",
      "1. ### docker client\u7684https\u95ee\u9898\n",
      "\u4fee\u6539Docker\u914d\u7f6e\u6587\u4ef6\n",
      "~~~~bash\n",
      "vim /etc/default/docker\n",
      "~~~~\n",
      "\u589e\u52a0\u4ee5\u4e0b\u4e00\u884c\n",
      "~~~~bash\n",
      "DOCKER_OPTS=\"$DOCKER_OPTS --insecure-registry=10.88.1.229:5000\"\n",
      "~~~~\n",
      "\u91cd\u542fDocker\n",
      "~~~~bash\n",
      "sudo service docker restart\n",
      "~~~~bash\n",
      "1. ### To do\n",
      "\u540e\u7eed\u5728Registry\u4e2d\u52a0\u5165https\n",
      "\u53c2\u8003\u8d44\u6599\n",
      "https://segmentfault.com/a/1190000000801162"
     ]
    },
    {
     "cell_type": "markdown",
     "metadata": {
      "slideshow": {
       "slide_type": "slide"
      }
     },
     "source": [
      "<br>\n",
      "### zjex \u670d\u52a1\u5904\u7406\u5c1d\u8bd5\n",
      "* \u542f\u52a8\u5fae\u670d\u52a1\u5e76\u6d4b\u8bd5 [http://10.88.1.215:8763/1/pifBorrow/pif/get/b201409041126098830](http://10.88.1.215:8763/1/pifBorrow/pif/get/b201409041126098830)\n",
      "* \u542f\u52a8gateway \u901a\u8fc7gateway\u8bbf\u95ee\u5fae\u670d\u52a1\u63d0\u4f9b\u7684API [http://10.88.1.215:8900/openapi/1/pifBorrow/pif/get/b201409041126098830](http://10.88.1.215:8900/openapi/1/pifBorrow/pif/get/b201409041126098830)\n",
      "* \u542f\u52a8openresty \u901a\u8fc7nginx \u8bbf\u95eegateway\u5728\u8bbf\u95ee\u5fae\u670d\u52a1\u7684API [http://10.88.1.215:9988/zjex_rest/1/pifBorrow/pif/get/b201409041126098830](http://10.88.1.215:9988/zjex_rest/1/pifBorrow/pif/get/b201409041126098830)\n",
      "* \u542f\u52a8docker\uff0c\u5728docker\u4e2d\u542f\u52a8nginx \u5728\u8bbf\u95ee\u5fae\u670d\u52a1[http://10.88.1.227:8001/zjex_rest/1/pifBorrow/pif/get/b201409041126098830](http://10.88.1.227:8001/zjex_rest/1/pifBorrow/pif/get/b201409041126098830)\n",
      "*\n",
      "*\n",
      "* http://127.0.0.1:8763/1/pifBorrow/pif/get/b201409041126098830\n",
      "* http://10.88.1.215:8763/1/pifBorrow/pif/get/b201409041126098830 "
     ]
    },
    {
     "cell_type": "markdown",
     "metadata": {
      "slideshow": {
       "slide_type": "slide"
      }
     },
     "source": [
      "## Let\u2019s Encrypt CA \n",
      "\u9879\u76ee\uff0c\u8ba1\u5212\u4e3a\u7f51\u7ad9\u63d0\u4f9b\u514d\u8d39\u7684\u57fa\u672c SSL \u8bc1\u4e66\uff0c\u4ee5\u52a0\u901f\u4e92\u8054\u7f51\u4ece HTTP \u5411 HTTPS \u8fc7\u6e21\u3002Let\u2019s Encrypt CA \u5c06\u7531\u975e\u8d62\u5229\u7ec4\u7ec7 Internet Security Research Group (ISRG) \u8fd0\u8425\uff0c\u8ba1\u5212\u4e8e 2015 \u5e74\u590f\u5929\u5f00\u59cb\u5411\u4efb\u4f55\u9700\u8981\u52a0\u5bc6\u8bc1\u4e66\u7684\u7f51\u7ad9\u81ea\u52a8\u53d1\u653e\u514d\u8d39\u7684 SSL \u8bc1\u4e66\u3002\n",
      "\n",
      "\n",
      "\u90e8\u7f72 HTTPS \u7684\u6700\u5927\u969c\u788d\u662f HTTPS \u6240\u9700\u7684\u8bc1\u4e66\u3002\u5bf9\u5f88\u591a\u670d\u52a1\u5668\u8fd0\u884c\u8005\u800c\u8a00\uff0c\u5373\u4fbf\u662f\u83b7\u53d6\u548c\u90e8\u7f72\u4e00\u4e2a\u57fa\u672c\u7684\u670d\u52a1\u5668\u8bc1\u4e66\u4e5f\u662f\u5f88\u7e41\u7410\u7684\u4e8b\u60c5\uff0c\u800c\u4e14\u8d39\u7528\u4e0d\u4f4e\u3002\u5e76\u4e14\u90e8\u7f72\u8fc7\u7a0b\u5bb9\u6613\u51fa\u9519\uff0c\u9700\u8981\u5347\u7ea7\u7684\u65f6\u5019\u5c31\u66f4\u9ebb\u70e6\u3002Let\u2019s Encrypt \u9879\u76ee\u7684\u76ee\u6807\u5c31\u662f\u89e3\u51b3\u8fd9\u4e9b\u95ee\u9898\uff0c\u5c06\u4f1a\u8bbe\u8ba1\u548c\u90e8\u7f72\u4e00\u4e2a\u534f\u4f5c\u3001\u514d\u8d39\u3001\u5f00\u653e\u7684\u7cfb\u7edf\uff0c\u8ba9\u4efb\u4f55\u6709\u9700\u8981\u7684\u4eba\u90fd\u53ef\u4ee5\u901a\u8fc7\u7b80\u5355\u7684\u9f20\u6807\u70b9\u51fb\u6765\u90e8\u7f72\u57fa\u672c\u7684\u670d\u52a1\u5668\u52a0\u5bc6\u8bc1\u4e66\u3002\n",
      "\n",
      "Let\u2019s Encrypt \u7684\u539f\u5219\u662f\uff1a\n",
      "\n",
      "* \u514d\u8d39\uff1a\u4efb\u4f55\u57df\u540d\u6240\u6709\u8005\u90fd\u53ef\u4ee5\u96f6\u8d39\u7528\u7533\u8bf7\u5230\u4e00\u4e2a\u9488\u5bf9\u5176\u57df\u540d\u7684\u6709\u6548\u8bc1\u4e66\u3002\n",
      "* \u81ea\u52a8\uff1a\u6574\u4e2a\u8bc1\u4e66\u6ce8\u518c\u8fc7\u7a0b\u5728\u670d\u52a1\u5668\u5b89\u88c5\u6216\u914d\u7f6e\u8fc7\u7a0b\u4e2d\u53ef\u4ee5\u7b80\u5355\u5b9e\u73b0\uff0c\u800c\u66f4\u65b0\u8fc7\u7a0b\u66f4\u662f\u53ef\u4ee5\u5728\u540e\u53f0\u81ea\u52a8\u6267\u884c\u3002\n",
      "* \u5b89\u5168\uff1aLet\u2019s Encrypt \u5c06\u4f1a\u63d0\u4f9b\u4e1a\u754c\u6700\u65b0\u7684\u5b89\u5168\u6280\u672f\u548c\u6700\u597d\u7684\u5b9e\u8df5\u3002\n",
      "* \u900f\u660e\uff1a\u6240\u6709\u5173\u4e8e\u8bc1\u4e66\u53d1\u653e\u3001\u64a4\u9500\u7684\u8bb0\u5f55\u90fd\u4f1a\u5411\u4efb\u4f55\u9700\u8981\u8c03\u67e5\u7684\u4eba\u5458\u5f00\u653e\u3002\n",
      "* \u5f00\u653e\uff1a\u81ea\u52a8\u5316\u6267\u884c\u7684\u53d1\u653e\u548c\u66f4\u65b0\u534f\u8bae\u5c06\u4f1a\u662f\u5f00\u653e\u6807\u51c6\uff0c\u8f6f\u4ef6\u4e5f\u5c3d\u53ef\u80fd\u4f7f\u7528\u5f00\u6e90\u8f6f\u4ef6\u3002\n",
      "* \u5408\u4f5c\uff1a\u4e0e\u73b0\u6709\u7684\u4e92\u8054\u7f51\u534f\u8bae\u672c\u8eab\u5f88\u76f8\u4f3c\uff0cLet\u2019s Encrypt \u662f\u4e00\u4e2a\u5bf9\u6574\u4e2a\u793e\u533a\u90fd\u6709\u76ca\u7684\u8054\u5408\u884c\u52a8\uff0c\u4e0d\u7531\u4efb\u4f55\u4e00\u4e2a\u7ec4\u7ec7\u63a7\u5236\u3002"
     ]
    },
    {
     "cell_type": "markdown",
     "metadata": {
      "slideshow": {
       "slide_type": "slide"
      }
     },
     "source": [
      "## nbconvert \u4f7f\u7528notebook \u5236\u4f5cslide \n",
      "\n",
      "~~~~dos\n",
      "jupyter-nbconvert --to slides How-to.ipynb --reveal-prefix '//cdn.bootcss.com/reveal.js/3.2.0' --output slides\n",
      "~~~~\n",
      "<br>\n",
      "<br>\n",
      "<br>"
     ]
    },
    {
     "cell_type": "code",
     "collapsed": false,
     "input": [],
     "language": "python",
     "metadata": {
      "slideshow": {
       "slide_type": "notes"
      }
     },
     "outputs": []
    }
   ],
   "metadata": {}
  }
 ]
}